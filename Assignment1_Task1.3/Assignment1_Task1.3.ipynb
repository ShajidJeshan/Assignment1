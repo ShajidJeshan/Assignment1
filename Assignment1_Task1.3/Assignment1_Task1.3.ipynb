{
 "cells": [
  {
   "cell_type": "code",
   "execution_count": 2,
   "metadata": {},
   "outputs": [
    {
     "name": "stdout",
     "output_type": "stream",
     "text": [
      "Enter First Name : Shajid\n",
      "Enter Last Name : Jeshan\n",
      "nahseJ dijahS\n"
     ]
    }
   ],
   "source": [
    "first_name = input(\"Enter First Name : \")\n",
    "last_name = input(\"Enter Last Name : \")\n",
    "str1 = (first_name+' '+last_name)[::-1]\n",
    "print(str1)\n"
   ]
  }
 ],
 "metadata": {
  "kernelspec": {
   "display_name": "Python 3",
   "language": "python",
   "name": "python3"
  },
  "language_info": {
   "codemirror_mode": {
    "name": "ipython",
    "version": 3
   },
   "file_extension": ".py",
   "mimetype": "text/x-python",
   "name": "python",
   "nbconvert_exporter": "python",
   "pygments_lexer": "ipython3",
   "version": "3.6.2"
  }
 },
 "nbformat": 4,
 "nbformat_minor": 2
}
